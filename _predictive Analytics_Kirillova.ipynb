{
 "cells": [
  {
   "cell_type": "code",
   "execution_count": 56,
   "id": "679b26fd",
   "metadata": {},
   "outputs": [],
   "source": [
    "import pandas as pd\n",
    "import matplotlib.pyplot as plt\n",
    "from matplotlib.patches import Rectangle\n",
    "import numpy as np\n",
    "from pprint import pprint as pp\n",
    "import csv\n",
    "from pathlib import Path\n",
    "import seaborn as sns\n",
    "from itertools import product\n",
    "import string\n",
    "\n",
    "import nltk\n",
    "from nltk.corpus import stopwords\n",
    "from nltk.stem.wordnet import WordNetLemmatizer\n",
    "\n",
    "from imblearn.over_sampling import SMOTE\n",
    "from imblearn.over_sampling import BorderlineSMOTE\n",
    "from imblearn.pipeline import Pipeline \n",
    "\n",
    "from sklearn.linear_model import LinearRegression, LogisticRegression\n",
    "from sklearn.model_selection import train_test_split, GridSearchCV\n",
    "from sklearn.tree import DecisionTreeClassifier\n",
    "from sklearn.metrics import r2_score, classification_report, confusion_matrix, accuracy_score, roc_auc_score, roc_curve, precision_recall_curve, average_precision_score\n",
    "from sklearn.metrics import homogeneity_score, silhouette_score\n",
    "from sklearn.ensemble import RandomForestClassifier, VotingClassifier\n",
    "from sklearn.preprocessing import MinMaxScaler\n",
    "from sklearn.cluster import MiniBatchKMeans, DBSCAN\n",
    "\n",
    "\n"
   ]
  },
  {
   "cell_type": "code",
   "execution_count": 2,
   "id": "fa897b9e",
   "metadata": {},
   "outputs": [],
   "source": [
    "data = pd.read_csv('fraud.csv')"
   ]
  },
  {
   "cell_type": "code",
   "execution_count": 5,
   "id": "f5955f16",
   "metadata": {},
   "outputs": [],
   "source": [
    "def prepare_data(df):\n",
    "    df = df.replace(' ', np.nan)\n",
    "    df = df.dropna()\n",
    "    df[['V1', 'V2', 'V3', 'V4', 'V5', 'V6', 'V7', 'V8',\n",
    "       'V9', 'V10', 'V11', 'V12', 'V13', 'V14', 'V15', 'V16', 'V17', 'V18',\n",
    "       'V19', 'V20', 'V21', 'V22', 'V23', 'V24', 'V25', 'V26', 'V27', 'V28',\n",
    "       'Amount']]=df[['V1', 'V2', 'V3', 'V4', 'V5', 'V6', 'V7', 'V8',\n",
    "       'V9', 'V10', 'V11', 'V12', 'V13', 'V14', 'V15', 'V16', 'V17', 'V18',\n",
    "       'V19', 'V20', 'V21', 'V22', 'V23', 'V24', 'V25', 'V26', 'V27', 'V28',\n",
    "       'Amount']].astype('int64')\n",
    "    \n",
    "    return df"
   ]
  },
  {
   "cell_type": "code",
   "execution_count": 8,
   "id": "8be487ed",
   "metadata": {},
   "outputs": [
    {
     "data": {
      "text/plain": [
       "0    7983\n",
       "1      17\n",
       "Name: Class, dtype: int64"
      ]
     },
     "execution_count": 8,
     "metadata": {},
     "output_type": "execute_result"
    }
   ],
   "source": [
    "# Count the occurrences of fraud and no fraud and print them\n",
    "occ = data['Class'].value_counts()\n",
    "occ"
   ]
  },
  {
   "cell_type": "code",
   "execution_count": 9,
   "id": "7fc8da66",
   "metadata": {},
   "outputs": [
    {
     "name": "stdout",
     "output_type": "stream",
     "text": [
      "Ratio of fraudulent cases: 0.002125\n",
      "Ratio of non-fraudulent cases: 0.997875\n"
     ]
    }
   ],
   "source": [
    "# Print the ratio of fraud cases\n",
    "ratio_cases = occ/len(data.index)\n",
    "print(f'Ratio of fraudulent cases: {ratio_cases[1]}\\nRatio of non-fraudulent cases: {ratio_cases[0]}')"
   ]
  },
  {
   "cell_type": "markdown",
   "id": "097ae899",
   "metadata": {},
   "source": [
    "# The ratio of fraudulent transactions is very low. This is a case of class imbalance problem\n"
   ]
  },
  {
   "cell_type": "code",
   "execution_count": 11,
   "id": "a196e46d",
   "metadata": {},
   "outputs": [],
   "source": [
    "def prep_data(data: pd.DataFrame) -> (np.ndarray, np.ndarray):\n",
    "    \"\"\"\n",
    "    Convert the DataFrame into two variable\n",
    "    X: data columns (V1 - V28)\n",
    "    y: lable column\n",
    "    \"\"\"\n",
    "    X = data.iloc[:, 2:30].values\n",
    "    y = data.Class.values\n",
    "    return X, y"
   ]
  },
  {
   "cell_type": "code",
   "execution_count": 12,
   "id": "2c1a5d21",
   "metadata": {},
   "outputs": [],
   "source": [
    "# Define a function to create a scatter plot of our data and labels\n",
    "def plot_data(X: np.ndarray, y: np.ndarray):\n",
    "    plt.scatter(X[y == 0, 0], X[y == 0, 1], label=\"Class #0\", alpha=0.5, linewidth=0.15)\n",
    "    plt.scatter(X[y == 1, 0], X[y == 1, 1], label=\"Class #1\", alpha=0.5, linewidth=0.15, c='r')\n",
    "    plt.legend()\n",
    "    return plt.show()"
   ]
  },
  {
   "cell_type": "code",
   "execution_count": 13,
   "id": "c659de59",
   "metadata": {},
   "outputs": [],
   "source": [
    "# Create X and y from the prep_data function \n",
    "X, y = prep_data(data)"
   ]
  },
  {
   "cell_type": "code",
   "execution_count": 14,
   "id": "bc69a46e",
   "metadata": {},
   "outputs": [
    {
     "data": {
      "image/png": "[encoded data removed]",
      "text/plain": [
       "<Figure size 432x288 with 1 Axes>"
      ]
     },
     "metadata": {
      "needs_background": "light"
     },
     "output_type": "display_data"
    }
   ],
   "source": [
    "\n",
    "plot_data(X, y)"
   ]
  },
  {
   "cell_type": "markdown",
   "id": "8c75926c",
   "metadata": {},
   "source": [
    " Increase successful detections with data resampling"
   ]
  },
  {
   "cell_type": "code",
   "execution_count": 15,
   "id": "27edcc45",
   "metadata": {},
   "outputs": [],
   "source": [
    "# Define resampling method and split into train and test\n",
    "#method = SMOTE(kind='borderline1')\n",
    "#X_train, X_test, y_train, y_test = train_test_split(X, y, train_size=0.8, random_state=0)\n",
    "\n",
    "# Apply resampling to the training data only\n",
    "#X_resampled, y_resampled = method.fit_sample(X_train, y_train)\n",
    "\n",
    "# Continue fitting the model and obtain predictions\n",
    "#model = LogisticRegression()\n",
    "#model.fit(X_resampled, y_resampled)\n",
    "\n",
    "# Get model performance metrics\n",
    "#predicted = model.predict(X_test)\n",
    "#print(classification_report(y_test, predicted))"
   ]
  },
  {
   "cell_type": "code",
   "execution_count": 73,
   "id": "b70bd9bd",
   "metadata": {},
   "outputs": [
    {
     "name": "stdout",
     "output_type": "stream",
     "text": [
      "Collecting imbalanced-learn\n",
      "  Using cached imbalanced_learn-0.9.1-py3-none-any.whl (199 kB)\n",
      "Requirement already satisfied: scipy>=1.3.2 in c:\\users\\kiril\\anaconda3\\lib\\site-packages (from imbalanced-learn) (1.7.1)\n",
      "Requirement already satisfied: scikit-learn>=1.1.0 in c:\\users\\kiril\\anaconda3\\lib\\site-packages (from imbalanced-learn) (1.1.2)\n",
      "Requirement already satisfied: joblib>=1.0.0 in c:\\users\\kiril\\anaconda3\\lib\\site-packages (from imbalanced-learn) (1.1.0)\n",
      "Requirement already satisfied: numpy>=1.17.3 in c:\\users\\kiril\\anaconda3\\lib\\site-packages (from imbalanced-learn) (1.20.3)\n",
      "Requirement already satisfied: threadpoolctl>=2.0.0 in c:\\users\\kiril\\anaconda3\\lib\\site-packages (from imbalanced-learn) (2.2.0)\n",
      "Installing collected packages: imbalanced-learn\n",
      "Successfully installed imbalanced-learn-0.9.1\n",
      "Note: you may need to restart the kernel to use updated packages.\n"
     ]
    }
   ],
   "source": [
    "pip install -U imbalanced-learn"
   ]
  },
  {
   "cell_type": "code",
   "execution_count": 16,
   "id": "c93cca76",
   "metadata": {},
   "outputs": [],
   "source": [
    "# Oversample and plot imbalanced dataset with SMOTE\n",
    "from collections import Counter\n",
    "from sklearn.datasets import make_classification\n",
    "from imblearn.over_sampling import SMOTE\n",
    "from matplotlib import pyplot"
   ]
  },
  {
   "cell_type": "code",
   "execution_count": 55,
   "id": "009b8c5c",
   "metadata": {},
   "outputs": [],
   "source": [
    "# Run the prep_data function\n",
    "X, y = prep_data(data)"
   ]
  },
  {
   "cell_type": "code",
   "execution_count": 56,
   "id": "a7fdddd3",
   "metadata": {},
   "outputs": [
    {
     "name": "stdout",
     "output_type": "stream",
     "text": [
      "X shape: (8000, 28)\n",
      "y shape: (8000,)\n"
     ]
    }
   ],
   "source": [
    "print(f'X shape: {X.shape}\\ny shape: {y.shape}')"
   ]
  },
  {
   "cell_type": "code",
   "execution_count": 17,
   "id": "6d2bd958",
   "metadata": {},
   "outputs": [],
   "source": [
    "# Define the resampling method\n",
    "method = SMOTE()"
   ]
  },
  {
   "cell_type": "code",
   "execution_count": 19,
   "id": "e45694b0",
   "metadata": {},
   "outputs": [],
   "source": [
    "# Create the resampled feature set\n",
    "X_resampled, y_resampled = method.fit_resample(X, y)"
   ]
  },
  {
   "cell_type": "code",
   "execution_count": 20,
   "id": "c73a1a4f",
   "metadata": {},
   "outputs": [
    {
     "data": {
      "image/png": "[encoded data removed]",
      "text/plain": [
       "<Figure size 432x288 with 1 Axes>"
      ]
     },
     "metadata": {
      "needs_background": "light"
     },
     "output_type": "display_data"
    }
   ],
   "source": [
    "# Plot the resampled data\n",
    "plot_data(X_resampled, y_resampled)"
   ]
  },
  {
   "cell_type": "markdown",
   "id": "d08dfd3a",
   "metadata": {},
   "source": [
    "The minority class is now much more prominently visible in our data. To see the results of SMOTE even better, we'll compare it to the original data next."
   ]
  },
  {
   "cell_type": "markdown",
   "id": "a143512e",
   "metadata": {},
   "source": [
    "Compare SMOTE to original data"
   ]
  },
  {
   "cell_type": "code",
   "execution_count": 21,
   "id": "bd846595",
   "metadata": {},
   "outputs": [
    {
     "data": {
      "text/plain": [
       "0    7983\n",
       "1      17\n",
       "dtype: int64"
      ]
     },
     "execution_count": 21,
     "metadata": {},
     "output_type": "execute_result"
    }
   ],
   "source": [
    "pd.value_counts(pd.Series(y))"
   ]
  },
  {
   "cell_type": "code",
   "execution_count": 22,
   "id": "f8bbac3a",
   "metadata": {},
   "outputs": [
    {
     "data": {
      "text/plain": [
       "0    7983\n",
       "1    7983\n",
       "dtype: int64"
      ]
     },
     "execution_count": 22,
     "metadata": {},
     "output_type": "execute_result"
    }
   ],
   "source": [
    "pd.value_counts(pd.Series(y_resampled))"
   ]
  },
  {
   "cell_type": "code",
   "execution_count": 23,
   "id": "dd187db2",
   "metadata": {},
   "outputs": [],
   "source": [
    "def compare_plot(X: np.ndarray, y: np.ndarray, X_resampled: np.ndarray, y_resampled: np.ndarray, method: str):\n",
    "    plt.subplot(1, 2, 1)\n",
    "    plt.scatter(X[y == 0, 0], X[y == 0, 1], label=\"Class #0\", alpha=0.5, linewidth=0.15)\n",
    "    plt.scatter(X[y == 1, 0], X[y == 1, 1], label=\"Class #1\", alpha=0.5, linewidth=0.15, c='r')\n",
    "    plt.title('Original Set')\n",
    "    plt.subplot(1, 2, 2)\n",
    "    plt.scatter(X_resampled[y_resampled == 0, 0], X_resampled[y_resampled == 0, 1], label=\"Class #0\", alpha=0.5, linewidth=0.15)\n",
    "    plt.scatter(X_resampled[y_resampled == 1, 0], X_resampled[y_resampled == 1, 1], label=\"Class #1\", alpha=0.5, linewidth=0.15, c='r')\n",
    "    plt.title(method)\n",
    "    plt.legend()\n",
    "    plt.show()"
   ]
  },
  {
   "cell_type": "code",
   "execution_count": 24,
   "id": "3d594134",
   "metadata": {},
   "outputs": [
    {
     "data": {
      "image/png": "[encoded data removed]",
      "text/plain": [
       "<Figure size 432x288 with 2 Axes>"
      ]
     },
     "metadata": {
      "needs_background": "light"
     },
     "output_type": "display_data"
    }
   ],
   "source": [
    "compare_plot(X, y, X_resampled, y_resampled, method='SMOTE')"
   ]
  },
  {
   "cell_type": "markdown",
   "id": "17700add",
   "metadata": {},
   "source": [
    "SMOTE has balanced our data completely, and that the minority class is now equal in size to the majority class. Visualizing the data shows the effect on the data very clearly."
   ]
  },
  {
   "cell_type": "code",
   "execution_count": 50,
   "id": "26abde77",
   "metadata": {},
   "outputs": [],
   "source": [
    "data.drop(['Unnamed: 0'], axis=1, inplace=True)"
   ]
  },
  {
   "cell_type": "code",
   "execution_count": 51,
   "id": "5d8b803c",
   "metadata": {},
   "outputs": [
    {
     "data": {
      "text/html": [
       "<div>\n",
       "<style scoped>\n",
       "    .dataframe tbody tr th:only-of-type {\n",
       "        vertical-align: middle;\n",
       "    }\n",
       "\n",
       "    .dataframe tbody tr th {\n",
       "        vertical-align: top;\n",
       "    }\n",
       "\n",
       "    .dataframe thead th {\n",
       "        text-align: right;\n",
       "    }\n",
       "</style>\n",
       "<table border=\"1\" class=\"dataframe\">\n",
       "  <thead>\n",
       "    <tr style=\"text-align: right;\">\n",
       "      <th></th>\n",
       "      <th>Time</th>\n",
       "      <th>V1</th>\n",
       "      <th>V2</th>\n",
       "      <th>V3</th>\n",
       "      <th>V4</th>\n",
       "      <th>V5</th>\n",
       "      <th>V6</th>\n",
       "      <th>V7</th>\n",
       "      <th>V8</th>\n",
       "      <th>V9</th>\n",
       "      <th>...</th>\n",
       "      <th>V20</th>\n",
       "      <th>V21</th>\n",
       "      <th>V22</th>\n",
       "      <th>V23</th>\n",
       "      <th>V24</th>\n",
       "      <th>V25</th>\n",
       "      <th>V26</th>\n",
       "      <th>V27</th>\n",
       "      <th>V28</th>\n",
       "      <th>Amount</th>\n",
       "    </tr>\n",
       "    <tr>\n",
       "      <th>Class</th>\n",
       "      <th></th>\n",
       "      <th></th>\n",
       "      <th></th>\n",
       "      <th></th>\n",
       "      <th></th>\n",
       "      <th></th>\n",
       "      <th></th>\n",
       "      <th></th>\n",
       "      <th></th>\n",
       "      <th></th>\n",
       "      <th></th>\n",
       "      <th></th>\n",
       "      <th></th>\n",
       "      <th></th>\n",
       "      <th></th>\n",
       "      <th></th>\n",
       "      <th></th>\n",
       "      <th></th>\n",
       "      <th></th>\n",
       "      <th></th>\n",
       "      <th></th>\n",
       "    </tr>\n",
       "  </thead>\n",
       "  <tbody>\n",
       "    <tr>\n",
       "      <th>0</th>\n",
       "      <td>95383.605161</td>\n",
       "      <td>0.023553</td>\n",
       "      <td>-0.008543</td>\n",
       "      <td>-0.002408</td>\n",
       "      <td>-0.034757</td>\n",
       "      <td>-0.020108</td>\n",
       "      <td>0.003264</td>\n",
       "      <td>0.023668</td>\n",
       "      <td>-0.004720</td>\n",
       "      <td>-0.010660</td>\n",
       "      <td>...</td>\n",
       "      <td>-0.00692</td>\n",
       "      <td>-0.004279</td>\n",
       "      <td>0.027999</td>\n",
       "      <td>0.006689</td>\n",
       "      <td>-0.000550</td>\n",
       "      <td>-0.000616</td>\n",
       "      <td>0.000659</td>\n",
       "      <td>-0.006740</td>\n",
       "      <td>0.005625</td>\n",
       "      <td>89.721167</td>\n",
       "    </tr>\n",
       "    <tr>\n",
       "      <th>1</th>\n",
       "      <td>83000.176471</td>\n",
       "      <td>-3.235382</td>\n",
       "      <td>1.317054</td>\n",
       "      <td>-3.762234</td>\n",
       "      <td>2.801140</td>\n",
       "      <td>-0.941354</td>\n",
       "      <td>-1.184692</td>\n",
       "      <td>-3.527826</td>\n",
       "      <td>-0.108892</td>\n",
       "      <td>-1.546536</td>\n",
       "      <td>...</td>\n",
       "      <td>-0.29245</td>\n",
       "      <td>0.361582</td>\n",
       "      <td>0.159210</td>\n",
       "      <td>-0.119366</td>\n",
       "      <td>-0.144082</td>\n",
       "      <td>0.155552</td>\n",
       "      <td>0.038765</td>\n",
       "      <td>0.265996</td>\n",
       "      <td>0.131853</td>\n",
       "      <td>65.287647</td>\n",
       "    </tr>\n",
       "  </tbody>\n",
       "</table>\n",
       "<p>2 rows × 30 columns</p>\n",
       "</div>"
      ],
      "text/plain": [
       "               Time        V1        V2        V3        V4        V5  \\\n",
       "Class                                                                   \n",
       "0      95383.605161  0.023553 -0.008543 -0.002408 -0.034757 -0.020108   \n",
       "1      83000.176471 -3.235382  1.317054 -3.762234  2.801140 -0.941354   \n",
       "\n",
       "             V6        V7        V8        V9  ...      V20       V21  \\\n",
       "Class                                          ...                      \n",
       "0      0.003264  0.023668 -0.004720 -0.010660  ... -0.00692 -0.004279   \n",
       "1     -1.184692 -3.527826 -0.108892 -1.546536  ... -0.29245  0.361582   \n",
       "\n",
       "            V22       V23       V24       V25       V26       V27       V28  \\\n",
       "Class                                                                         \n",
       "0      0.027999  0.006689 -0.000550 -0.000616  0.000659 -0.006740  0.005625   \n",
       "1      0.159210 -0.119366 -0.144082  0.155552  0.038765  0.265996  0.131853   \n",
       "\n",
       "          Amount  \n",
       "Class             \n",
       "0      89.721167  \n",
       "1      65.287647  \n",
       "\n",
       "[2 rows x 30 columns]"
      ]
     },
     "execution_count": 51,
     "metadata": {},
     "output_type": "execute_result"
    }
   ],
   "source": [
    "data.groupby('Class').mean()"
   ]
  },
  {
   "cell_type": "code",
   "execution_count": 54,
   "id": "3ce5d385",
   "metadata": {},
   "outputs": [],
   "source": [
    "data['flag_as_fraud'] = np.where(np.logical_and(data.V1 < -3, data.V3 < -5), 1, 0)"
   ]
  },
  {
   "cell_type": "code",
   "execution_count": 55,
   "id": "c9a8a64c",
   "metadata": {},
   "outputs": [
    {
     "data": {
      "text/html": [
       "<div>\n",
       "<style scoped>\n",
       "    .dataframe tbody tr th:only-of-type {\n",
       "        vertical-align: middle;\n",
       "    }\n",
       "\n",
       "    .dataframe tbody tr th {\n",
       "        vertical-align: top;\n",
       "    }\n",
       "\n",
       "    .dataframe thead th {\n",
       "        text-align: right;\n",
       "    }\n",
       "</style>\n",
       "<table border=\"1\" class=\"dataframe\">\n",
       "  <thead>\n",
       "    <tr style=\"text-align: right;\">\n",
       "      <th>Flagged Fraud</th>\n",
       "      <th>0</th>\n",
       "      <th>1</th>\n",
       "    </tr>\n",
       "    <tr>\n",
       "      <th>Actual Fraud</th>\n",
       "      <th></th>\n",
       "      <th></th>\n",
       "    </tr>\n",
       "  </thead>\n",
       "  <tbody>\n",
       "    <tr>\n",
       "      <th>0</th>\n",
       "      <td>7949</td>\n",
       "      <td>34</td>\n",
       "    </tr>\n",
       "    <tr>\n",
       "      <th>1</th>\n",
       "      <td>13</td>\n",
       "      <td>4</td>\n",
       "    </tr>\n",
       "  </tbody>\n",
       "</table>\n",
       "</div>"
      ],
      "text/plain": [
       "Flagged Fraud     0   1\n",
       "Actual Fraud           \n",
       "0              7949  34\n",
       "1                13   4"
      ]
     },
     "execution_count": 55,
     "metadata": {},
     "output_type": "execute_result"
    }
   ],
   "source": [
    "pd.crosstab(data.Class, data.flag_as_fraud, rownames=['Actual Fraud'], colnames=['Flagged Fraud'])"
   ]
  },
  {
   "cell_type": "markdown",
   "id": "7c1bf89c",
   "metadata": {},
   "source": [
    "# With this rule, 4 out of 17 fraud cases are detected, 13 are not detected, and 34 false positives are identified"
   ]
  },
  {
   "cell_type": "code",
   "execution_count": null,
   "id": "e5fc195d",
   "metadata": {},
   "outputs": [],
   "source": []
  }
 ],
 "metadata": {
  "kernelspec": {
   "display_name": "Python 3 (ipykernel)",
   "language": "python",
   "name": "python3"
  },
  "language_info": {
   "codemirror_mode": {
    "name": "ipython",
    "version": 3
   },
   "file_extension": ".py",
   "mimetype": "text/x-python",
   "name": "python",
   "nbconvert_exporter": "python",
   "pygments_lexer": "ipython3",
   "version": "3.9.7"
  }
 },
 "nbformat": 4,
 "nbformat_minor": 5
}
